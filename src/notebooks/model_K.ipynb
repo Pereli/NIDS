{
 "cells": [
  {
   "cell_type": "code",
   "execution_count": 1,
   "metadata": {},
   "outputs": [],
   "source": [
    "import warnings\n",
    "warnings.simplefilter(action='ignore')\n",
    "\n",
    "import numpy as np\n",
    "import pandas as pd\n",
    "\n",
    "from sklearn.preprocessing import StandardScaler\n",
    "from sklearn.model_selection import StratifiedKFold, cross_validate\n",
    "from sklearn.ensemble import RandomForestClassifier, GradientBoostingClassifier\n",
    "from sklearn.tree import DecisionTreeClassifier\n",
    "from sklearn.linear_model import LogisticRegression\n",
    "\n",
    "\n",
    "\n"
   ]
  },
  {
   "cell_type": "code",
   "execution_count": 2,
   "metadata": {},
   "outputs": [],
   "source": [
    "x_train = pd.read_csv('../data/processed/train.csv', index_col=False)\n",
    "x_test = pd.read_csv('../data/processed/test.csv', index_col=False)\n"
   ]
  },
  {
   "cell_type": "code",
   "execution_count": 3,
   "metadata": {},
   "outputs": [],
   "source": [
    "\n",
    "y_train = x_train.pop('label')\n",
    "y_test = x_test.pop('label')"
   ]
  },
  {
   "cell_type": "code",
   "execution_count": null,
   "metadata": {},
   "outputs": [],
   "source": [
    "# ten fold cross validation\n",
    "folds = 10\n",
    "seed = 42\n",
    "kf = StratifiedKFold(n_splits=folds, shuffle=True, random_state=seed)\n"
   ]
  },
  {
   "cell_type": "code",
   "execution_count": 8,
   "metadata": {},
   "outputs": [
    {
     "name": "stdout",
     "output_type": "stream",
     "text": [
      "fit_time, mean 24.106252717971802, std 1.8109392174482848\n",
      "score_time, mean 0.31358957290649414, std 0.10526463947923306\n",
      "test_accuracy, mean 0.96045989950715, std 0.0014770236640667777\n",
      "test_f1, mean 0.9711744926559573, std 0.0010920595723608619\n",
      "\n",
      "fit_time, mean 2.56466166973114, std 0.31110488532663205\n",
      "score_time, mean 0.017130231857299803, std 0.0047376915691065245\n",
      "test_accuracy, mean 0.93538305877775, std 0.00156811253015934\n",
      "test_f1, mean 0.9541949129173384, std 0.0010759409575247453\n",
      "\n",
      "fit_time, mean 101.98547267913818, std 67.49500566201115\n",
      "score_time, mean 0.08912067413330078, std 0.08589563965902626\n",
      "test_accuracy, mean 0.9458369740663372, std 0.0021154524068258246\n",
      "test_f1, mean 0.961100857880225, std 0.0014959931555215608\n",
      "\n",
      "fit_time, mean 7.125614070892334, std 0.4429809269454672\n",
      "score_time, mean 0.05569703578948974, std 0.02607707522297153\n",
      "test_accuracy, mean 0.9497550561995827, std 0.0019098186341114695\n",
      "test_f1, mean 0.9630636324736294, std 0.001441752566035542\n",
      "\n"
     ]
    }
   ],
   "source": [
    "\n",
    "models = [\n",
    "    RandomForestClassifier(random_state=seed),\n",
    "    LogisticRegression(random_state=seed),\n",
    "    GradientBoostingClassifier(random_state=seed),\n",
    "    DecisionTreeClassifier(random_state=seed)\n",
    "]\n",
    "\n",
    "results = {\n",
    "    \"model\": [],\n",
    "    \"accuracy\": [],\n",
    "    \"f1\": []\n",
    "}\n",
    "\n",
    "\n",
    "for model in models:\n",
    "    results[\"model\"].append(model.__class__.__name__)\n",
    "    scores = cross_validate(model, x_train, y_train, cv=kf, scoring=[\"accuracy\", \"f1\"])\n",
    "    for key in scores.keys():\n",
    "        mean, std = scores[key].mean(), scores[key].std()\n",
    "        print(f\"{key}, mean {mean}, std {std}\")\n",
    "    results[\"accuracy\"].append(scores[\"test_accuracy\"].mean())\n",
    "    results[\"f1\"].append(scores[\"test_f1\"].mean())\n",
    "    print()"
   ]
  },
  {
   "cell_type": "code",
   "execution_count": 10,
   "metadata": {},
   "outputs": [
    {
     "data": {
      "text/html": [
       "<div>\n",
       "<style scoped>\n",
       "    .dataframe tbody tr th:only-of-type {\n",
       "        vertical-align: middle;\n",
       "    }\n",
       "\n",
       "    .dataframe tbody tr th {\n",
       "        vertical-align: top;\n",
       "    }\n",
       "\n",
       "    .dataframe thead th {\n",
       "        text-align: right;\n",
       "    }\n",
       "</style>\n",
       "<table border=\"1\" class=\"dataframe\">\n",
       "  <thead>\n",
       "    <tr style=\"text-align: right;\">\n",
       "      <th></th>\n",
       "      <th>model</th>\n",
       "      <th>accuracy</th>\n",
       "      <th>f1</th>\n",
       "    </tr>\n",
       "  </thead>\n",
       "  <tbody>\n",
       "    <tr>\n",
       "      <th>0</th>\n",
       "      <td>RandomForestClassifier</td>\n",
       "      <td>0.960460</td>\n",
       "      <td>0.971174</td>\n",
       "    </tr>\n",
       "    <tr>\n",
       "      <th>1</th>\n",
       "      <td>LogisticRegression</td>\n",
       "      <td>0.935383</td>\n",
       "      <td>0.954195</td>\n",
       "    </tr>\n",
       "    <tr>\n",
       "      <th>2</th>\n",
       "      <td>GradientBoostingClassifier</td>\n",
       "      <td>0.945837</td>\n",
       "      <td>0.961101</td>\n",
       "    </tr>\n",
       "    <tr>\n",
       "      <th>3</th>\n",
       "      <td>DecisionTreeClassifier</td>\n",
       "      <td>0.949755</td>\n",
       "      <td>0.963064</td>\n",
       "    </tr>\n",
       "  </tbody>\n",
       "</table>\n",
       "</div>"
      ],
      "text/plain": [
       "                        model  accuracy        f1\n",
       "0      RandomForestClassifier  0.960460  0.971174\n",
       "1          LogisticRegression  0.935383  0.954195\n",
       "2  GradientBoostingClassifier  0.945837  0.961101\n",
       "3      DecisionTreeClassifier  0.949755  0.963064"
      ]
     },
     "execution_count": 10,
     "metadata": {},
     "output_type": "execute_result"
    }
   ],
   "source": [
    "final = pd.DataFrame(results)\n",
    "final"
   ]
  },
  {
   "cell_type": "code",
   "execution_count": null,
   "metadata": {},
   "outputs": [],
   "source": []
  },
  {
   "cell_type": "code",
   "execution_count": 11,
   "metadata": {},
   "outputs": [],
   "source": [
    "\n",
    "# save validation results\n",
    "pd.DataFrame(results).to_csv(\"results.csv\", index=False)"
   ]
  },
  {
   "cell_type": "code",
   "execution_count": 13,
   "metadata": {},
   "outputs": [],
   "source": [
    "pd.DataFrame(results).to_clipboard()"
   ]
  },
  {
   "cell_type": "code",
   "execution_count": 58,
   "metadata": {},
   "outputs": [
    {
     "data": {
      "text/plain": [
       "RandomForestClassifier(random_state=42)"
      ]
     },
     "execution_count": 58,
     "metadata": {},
     "output_type": "execute_result"
    }
   ],
   "source": [
    "models[0]"
   ]
  },
  {
   "cell_type": "code",
   "execution_count": 46,
   "metadata": {},
   "outputs": [
    {
     "ename": "SyntaxError",
     "evalue": "incomplete input (651241100.py, line 1)",
     "output_type": "error",
     "traceback": [
      "\u001b[1;36m  Cell \u001b[1;32mIn[46], line 1\u001b[1;36m\u001b[0m\n\u001b[1;33m    for model in models:\u001b[0m\n\u001b[1;37m                        ^\u001b[0m\n\u001b[1;31mSyntaxError\u001b[0m\u001b[1;31m:\u001b[0m incomplete input\n"
     ]
    }
   ],
   "source": []
  },
  {
   "cell_type": "code",
   "execution_count": null,
   "metadata": {},
   "outputs": [],
   "source": []
  }
 ],
 "metadata": {
  "kernelspec": {
   "display_name": "pred",
   "language": "python",
   "name": "python3"
  },
  "language_info": {
   "codemirror_mode": {
    "name": "ipython",
    "version": 3
   },
   "file_extension": ".py",
   "mimetype": "text/x-python",
   "name": "python",
   "nbconvert_exporter": "python",
   "pygments_lexer": "ipython3",
   "version": "3.10.4"
  },
  "orig_nbformat": 4,
  "vscode": {
   "interpreter": {
    "hash": "5fe6a85375423fab5ed3ee0804ced7d5909b467d08d2a448d237bbd9b686727d"
   }
  }
 },
 "nbformat": 4,
 "nbformat_minor": 2
}
